{
 "metadata": {
  "language_info": {
   "codemirror_mode": {
    "name": "ipython",
    "version": 3
   },
   "file_extension": ".py",
   "mimetype": "text/x-python",
   "name": "python",
   "nbconvert_exporter": "python",
   "pygments_lexer": "ipython3",
   "version": "3.9.2"
  },
  "orig_nbformat": 2,
  "kernelspec": {
   "name": "python392jvsc74a57bd02f0c04edf02add2f409fc4cf5e9af5ab3b2644f9cc08cf5d748622478ceb7e6e",
   "display_name": "Python 3.9.2 64-bit"
  },
  "metadata": {
   "interpreter": {
    "hash": "2f0c04edf02add2f409fc4cf5e9af5ab3b2644f9cc08cf5d748622478ceb7e6e"
   }
  }
 },
 "nbformat": 4,
 "nbformat_minor": 2,
 "cells": [
  {
   "cell_type": "code",
   "execution_count": 2,
   "metadata": {},
   "outputs": [
    {
     "output_type": "execute_result",
     "data": {
      "text/plain": [
       "'This is a phenomenon called overfitting, where a model matches the training data almost perfectly, but does poorly in validation and other new data.'"
      ]
     },
     "metadata": {},
     "execution_count": 2
    }
   ],
   "source": [
    "# Overfitting?\n",
    "'''This is a phenomenon called overfitting, where a model matches the training data almost perfectly, but does poorly in validation and other new data.'''"
   ]
  },
  {
   "cell_type": "code",
   "execution_count": 3,
   "metadata": {},
   "outputs": [
    {
     "output_type": "execute_result",
     "data": {
      "text/plain": [
       "'When a model fails to capture important distinctions and patterns in the data, so it performs poorly even in training data, that is called underfitting.'"
      ]
     },
     "metadata": {},
     "execution_count": 3
    }
   ],
   "source": [
    "# Underfitting?\n",
    "'''When a model fails to capture important distinctions and patterns in the data, so it performs poorly even in training data, that is called underfitting.'''"
   ]
  },
  {
   "cell_type": "code",
   "execution_count": 4,
   "metadata": {},
   "outputs": [
    {
     "output_type": "stream",
     "name": "stdout",
     "text": [
      "   Unnamed: 0      Suburb           Address  Rooms Type      Price Method  \\\n0           1  Abbotsford      85 Turner St      2    h  1480000.0      S   \n1           2  Abbotsford   25 Bloomburg St      2    h  1035000.0      S   \n2           4  Abbotsford      5 Charles St      3    h  1465000.0     SP   \n3           5  Abbotsford  40 Federation La      3    h   850000.0     PI   \n4           6  Abbotsford       55a Park St      4    h  1600000.0     VB   \n\n  SellerG       Date  Distance  ...  Bathroom  Car  Landsize  BuildingArea  \\\n0  Biggin  3/12/2016       2.5  ...       1.0  1.0     202.0           NaN   \n1  Biggin  4/02/2016       2.5  ...       1.0  0.0     156.0          79.0   \n2  Biggin  4/03/2017       2.5  ...       2.0  0.0     134.0         150.0   \n3  Biggin  4/03/2017       2.5  ...       2.0  1.0      94.0           NaN   \n4  Nelson  4/06/2016       2.5  ...       1.0  2.0     120.0         142.0   \n\n   YearBuilt  CouncilArea  Lattitude Longtitude             Regionname  \\\n0        NaN        Yarra   -37.7996   144.9984  Northern Metropolitan   \n1     1900.0        Yarra   -37.8079   144.9934  Northern Metropolitan   \n2     1900.0        Yarra   -37.8093   144.9944  Northern Metropolitan   \n3        NaN        Yarra   -37.7969   144.9969  Northern Metropolitan   \n4     2014.0        Yarra   -37.8072   144.9941  Northern Metropolitan   \n\n   Propertycount  \n0         4019.0  \n1         4019.0  \n2         4019.0  \n3         4019.0  \n4         4019.0  \n\n[5 rows x 22 columns]\n"
     ]
    }
   ],
   "source": [
    "# Data Loading Code Runs At This Point\n",
    "import pandas as pd \n",
    "import os\n",
    "    \n",
    "# Load data\n",
    "melbourne_file_path = 'E:/lucky/M L/Datasets/Melbourne/melb_data.csv'\n",
    "melbourne_data = pd.read_csv(melbourne_file_path) \n",
    "print(melbourne_data.head())\n"
   ]
  },
  {
   "cell_type": "code",
   "execution_count": 5,
   "metadata": {},
   "outputs": [],
   "source": [
    "from sklearn.metrics import mean_absolute_error\n",
    "from sklearn.tree import DecisionTreeRegressor\n",
    "\n",
    "# utility function to help compare MAE scores from different values for max_leaf_nodes:\n",
    "def get_mae(max_leaf_nodes, train_X, val_X, train_y, val_y):\n",
    "    model = DecisionTreeRegressor(max_leaf_nodes=max_leaf_nodes, random_state=0)\n",
    "    model.fit(train_X, train_y)\n",
    "    preds_val = model.predict(val_X)\n",
    "    mae = mean_absolute_error(val_y, preds_val)\n",
    "    return(mae)"
   ]
  },
  {
   "cell_type": "code",
   "execution_count": 6,
   "metadata": {},
   "outputs": [
    {
     "output_type": "stream",
     "name": "stdout",
     "text": [
      "   Rooms  Bathroom  Landsize  BuildingArea  YearBuilt  Lattitude  Longtitude\n1      2       1.0     156.0          79.0     1900.0   -37.8079    144.9934\n2      3       2.0     134.0         150.0     1900.0   -37.8093    144.9944\n4      4       1.0     120.0         142.0     2014.0   -37.8072    144.9941\n6      3       2.0     245.0         210.0     1910.0   -37.8024    144.9993\n7      2       1.0     256.0         107.0     1890.0   -37.8060    144.9954\n1    1035000.0\n2    1465000.0\n4    1600000.0\n6    1876000.0\n7    1636000.0\nName: Price, dtype: float64\n"
     ]
    }
   ],
   "source": [
    "# Filter rows with missing values\n",
    "filtered_melbourne_data = melbourne_data.dropna(axis=0)\n",
    "\n",
    "# Choose target and features\n",
    "y = filtered_melbourne_data.Price\n",
    "melbourne_features = ['Rooms', 'Bathroom', 'Landsize', 'BuildingArea', \n",
    "                        'YearBuilt', 'Lattitude', 'Longtitude']\n",
    "\n",
    "X = filtered_melbourne_data[melbourne_features]\n",
    "print(X.head())\n",
    "print(y.head())\n",
    "\n",
    "from sklearn.model_selection import train_test_split\n",
    "\n",
    "# split data into training and validation data, for both features and target\n",
    "train_X, val_X, train_y, val_y = train_test_split(X, y,random_state = 0)"
   ]
  },
  {
   "cell_type": "code",
   "execution_count": 12,
   "metadata": {},
   "outputs": [
    {
     "output_type": "stream",
     "name": "stdout",
     "text": [
      "Max leaf nodes: 5  \t\t Mean Absolute Error:  347380\nMax leaf nodes: 50  \t\t Mean Absolute Error:  258171\nMax leaf nodes: 500  \t\t Mean Absolute Error:  243495\nMax leaf nodes: 5000  \t\t Mean Absolute Error:  254983\n"
     ]
    }
   ],
   "source": [
    "# for-loop to compare the accuracy of models built with different values for max_leaf_nodes.\n",
    "\n",
    "# compare MAE with differing values of max_leaf_nodes\n",
    "for max_leaf_nodes in [5, 50, 500, 5000]:\n",
    "    my_mae = get_mae(max_leaf_nodes, train_X, val_X, train_y, val_y)\n",
    "    print(\"Max leaf nodes: %d  \\t\\t Mean Absolute Error:  %d\" %(max_leaf_nodes, my_mae))"
   ]
  }
 ]
}