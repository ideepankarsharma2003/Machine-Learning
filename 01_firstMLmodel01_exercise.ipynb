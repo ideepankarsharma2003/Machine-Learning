{
 "metadata": {
  "language_info": {
   "codemirror_mode": {
    "name": "ipython",
    "version": 3
   },
   "file_extension": ".py",
   "mimetype": "text/x-python",
   "name": "python",
   "nbconvert_exporter": "python",
   "pygments_lexer": "ipython3",
   "version": "3.9.2"
  },
  "orig_nbformat": 2,
  "kernelspec": {
   "name": "python392jvsc74a57bd02f0c04edf02add2f409fc4cf5e9af5ab3b2644f9cc08cf5d748622478ceb7e6e",
   "display_name": "Python 3.9.2 64-bit"
  },
  "metadata": {
   "interpreter": {
    "hash": "2f0c04edf02add2f409fc4cf5e9af5ab3b2644f9cc08cf5d748622478ceb7e6e"
   }
  }
 },
 "nbformat": 4,
 "nbformat_minor": 2,
 "cells": [
  {
   "cell_type": "code",
   "execution_count": 1,
   "metadata": {},
   "outputs": [],
   "source": [
    "# Code you have previously used to load data\n",
    "import pandas as pd\n",
    "import os"
   ]
  },
  {
   "cell_type": "code",
   "execution_count": 2,
   "metadata": {},
   "outputs": [
    {
     "output_type": "execute_result",
     "data": {
      "text/plain": [
       "'e:\\\\lucky\\\\M L\\\\ML kaggle'"
      ]
     },
     "metadata": {},
     "execution_count": 2
    }
   ],
   "source": [
    "pwd"
   ]
  },
  {
   "cell_type": "code",
   "execution_count": 3,
   "metadata": {},
   "outputs": [
    {
     "output_type": "execute_result",
     "data": {
      "text/plain": [
       "True"
      ]
     },
     "metadata": {},
     "execution_count": 3
    }
   ],
   "source": [
    "# Path of the file to read\n",
    "iowa_file_path = 'E:/lucky/M L/Datasets/IOWA/machine-learning-master/train.csv'\n",
    "os.path.exists(iowa_file_path)"
   ]
  },
  {
   "cell_type": "code",
   "execution_count": 4,
   "metadata": {},
   "outputs": [
    {
     "output_type": "stream",
     "name": "stdout",
     "text": [
      "Setup Complete\n"
     ]
    }
   ],
   "source": [
    "\n",
    "home_data = pd.read_csv(iowa_file_path)\n",
    "\n",
    "'''\n",
    "# Set up code checking------>FROM KAGGLE\n",
    "from learntools.core import binder\n",
    "binder.bind(globals())\n",
    "from learntools.machine_learning.ex3 import *\n",
    "'''\n",
    "\n",
    "print(\"Setup Complete\")"
   ]
  },
  {
   "cell_type": "code",
   "execution_count": 5,
   "metadata": {},
   "outputs": [
    {
     "output_type": "execute_result",
     "data": {
      "text/plain": [
       "Index(['Id', 'MSSubClass', 'MSZoning', 'LotFrontage', 'LotArea', 'Street',\n",
       "       'Alley', 'LotShape', 'LandContour', 'Utilities', 'LotConfig',\n",
       "       'LandSlope', 'Neighborhood', 'Condition1', 'Condition2', 'BldgType',\n",
       "       'HouseStyle', 'OverallQual', 'OverallCond', 'YearBuilt', 'YearRemodAdd',\n",
       "       'RoofStyle', 'RoofMatl', 'Exterior1st', 'Exterior2nd', 'MasVnrType',\n",
       "       'MasVnrArea', 'ExterQual', 'ExterCond', 'Foundation', 'BsmtQual',\n",
       "       'BsmtCond', 'BsmtExposure', 'BsmtFinType1', 'BsmtFinSF1',\n",
       "       'BsmtFinType2', 'BsmtFinSF2', 'BsmtUnfSF', 'TotalBsmtSF', 'Heating',\n",
       "       'HeatingQC', 'CentralAir', 'Electrical', '1stFlrSF', '2ndFlrSF',\n",
       "       'LowQualFinSF', 'GrLivArea', 'BsmtFullBath', 'BsmtHalfBath', 'FullBath',\n",
       "       'HalfBath', 'BedroomAbvGr', 'KitchenAbvGr', 'KitchenQual',\n",
       "       'TotRmsAbvGrd', 'Functional', 'Fireplaces', 'FireplaceQu', 'GarageType',\n",
       "       'GarageYrBlt', 'GarageFinish', 'GarageCars', 'GarageArea', 'GarageQual',\n",
       "       'GarageCond', 'PavedDrive', 'WoodDeckSF', 'OpenPorchSF',\n",
       "       'EnclosedPorch', '3SsnPorch', 'ScreenPorch', 'PoolArea', 'PoolQC',\n",
       "       'Fence', 'MiscFeature', 'MiscVal', 'MoSold', 'YrSold', 'SaleType',\n",
       "       'SaleCondition', 'SalePrice'],\n",
       "      dtype='object')"
      ]
     },
     "metadata": {},
     "execution_count": 5
    }
   ],
   "source": [
    "# Step 1: Specify Prediction Target\n",
    "home_data.columns"
   ]
  },
  {
   "cell_type": "code",
   "execution_count": 6,
   "metadata": {},
   "outputs": [],
   "source": [
    "y = home_data.SalePrice"
   ]
  },
  {
   "cell_type": "code",
   "execution_count": 7,
   "metadata": {},
   "outputs": [],
   "source": [
    "# Step 2: Create X\n",
    "# Create the list of features below\n",
    "feature_names = ['LotArea','YearBuilt' , '1stFlrSF' , '2ndFlrSF' , 'FullBath' , 'BedroomAbvGr','TotRmsAbvGrd'  ]\n",
    "\n",
    "# Select data corresponding to features in feature_names\n",
    "X = home_data[feature_names]"
   ]
  },
  {
   "cell_type": "code",
   "execution_count": 8,
   "metadata": {},
   "outputs": [
    {
     "output_type": "stream",
     "name": "stdout",
     "text": [
      "             LotArea    YearBuilt     1stFlrSF     2ndFlrSF     FullBath  \\\ncount    1460.000000  1460.000000  1460.000000  1460.000000  1460.000000   \nmean    10516.828082  1971.267808  1162.626712   346.992466     1.565068   \nstd      9981.264932    30.202904   386.587738   436.528436     0.550916   \nmin      1300.000000  1872.000000   334.000000     0.000000     0.000000   \n25%      7553.500000  1954.000000   882.000000     0.000000     1.000000   \n50%      9478.500000  1973.000000  1087.000000     0.000000     2.000000   \n75%     11601.500000  2000.000000  1391.250000   728.000000     2.000000   \nmax    215245.000000  2010.000000  4692.000000  2065.000000     3.000000   \n\n       BedroomAbvGr  TotRmsAbvGrd  \ncount   1460.000000   1460.000000  \nmean       2.866438      6.517808  \nstd        0.815778      1.625393  \nmin        0.000000      2.000000  \n25%        2.000000      5.000000  \n50%        3.000000      6.000000  \n75%        3.000000      7.000000  \nmax        8.000000     14.000000  \n<bound method NDFrame.head of       LotArea  YearBuilt  1stFlrSF  2ndFlrSF  FullBath  BedroomAbvGr  \\\n0        8450       2003       856       854         2             3   \n1        9600       1976      1262         0         2             3   \n2       11250       2001       920       866         2             3   \n3        9550       1915       961       756         1             3   \n4       14260       2000      1145      1053         2             4   \n...       ...        ...       ...       ...       ...           ...   \n1455     7917       1999       953       694         2             3   \n1456    13175       1978      2073         0         2             3   \n1457     9042       1941      1188      1152         2             4   \n1458     9717       1950      1078         0         1             2   \n1459     9937       1965      1256         0         1             3   \n\n      TotRmsAbvGrd  \n0                8  \n1                6  \n2                6  \n3                7  \n4                9  \n...            ...  \n1455             7  \n1456             7  \n1457             9  \n1458             5  \n1459             6  \n\n[1460 rows x 7 columns]>\n"
     ]
    }
   ],
   "source": [
    "# Review data\n",
    "# print description or statistics from X\n",
    "print(X.describe())\n",
    "\n",
    "# print the top few lines\n",
    "print(X.head)"
   ]
  },
  {
   "cell_type": "code",
   "execution_count": 9,
   "metadata": {},
   "outputs": [
    {
     "output_type": "execute_result",
     "data": {
      "text/plain": [
       "DecisionTreeRegressor(random_state=1)"
      ]
     },
     "metadata": {},
     "execution_count": 9
    }
   ],
   "source": [
    "# Step 3: Specify and Fit Model\n",
    "from sklearn.tree import DecisionTreeRegressor\n",
    "#specify the model. \n",
    "#For model reproducibility, set a numeric value for random_state when specifying the model\n",
    "iowa_model = DecisionTreeRegressor(random_state=1)\n",
    "\n",
    "# Fit the model\n",
    "iowa_model.fit(X,y)"
   ]
  },
  {
   "cell_type": "code",
   "execution_count": 10,
   "metadata": {},
   "outputs": [
    {
     "output_type": "stream",
     "name": "stdout",
     "text": [
      "[208500. 181500. 223500. ... 266500. 142125. 147500.]\n"
     ]
    }
   ],
   "source": [
    "# Step 4: Make Predictions\n",
    "predictions = iowa_model.predict(X)\n",
    "print(predictions)"
   ]
  },
  {
   "cell_type": "code",
   "execution_count": 11,
   "metadata": {},
   "outputs": [
    {
     "output_type": "stream",
     "name": "stdout",
     "text": [
      "0    True\n1    True\n2    True\n3    True\n4    True\nName: SalePrice, dtype: bool\n"
     ]
    }
   ],
   "source": [
    "# Checking the performance of the model\n",
    "\n",
    "z=iowa_model.predict(X.head())==y.head()\n",
    "print(z)\n"
   ]
  },
  {
   "cell_type": "code",
   "execution_count": 12,
   "metadata": {},
   "outputs": [
    {
     "output_type": "stream",
     "name": "stdout",
     "text": [
      "0.9999346278363472\n"
     ]
    }
   ],
   "source": [
    "print(iowa_model.score(X,y))"
   ]
  }
 ]
}