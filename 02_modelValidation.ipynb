{
 "metadata": {
  "language_info": {
   "codemirror_mode": {
    "name": "ipython",
    "version": 3
   },
   "file_extension": ".py",
   "mimetype": "text/x-python",
   "name": "python",
   "nbconvert_exporter": "python",
   "pygments_lexer": "ipython3",
   "version": "3.9.2"
  },
  "orig_nbformat": 2,
  "kernelspec": {
   "name": "python392jvsc74a57bd02f0c04edf02add2f409fc4cf5e9af5ab3b2644f9cc08cf5d748622478ceb7e6e",
   "display_name": "Python 3.9.2 64-bit"
  },
  "metadata": {
   "interpreter": {
    "hash": "2f0c04edf02add2f409fc4cf5e9af5ab3b2644f9cc08cf5d748622478ceb7e6e"
   }
  }
 },
 "nbformat": 4,
 "nbformat_minor": 2,
 "cells": [
  {
   "cell_type": "code",
   "execution_count": 2,
   "metadata": {},
   "outputs": [],
   "source": [
    "import pandas as pd \n",
    "import os\n",
    "\n"
   ]
  },
  {
   "cell_type": "code",
   "execution_count": 3,
   "metadata": {},
   "outputs": [
    {
     "output_type": "execute_result",
     "data": {
      "text/plain": [
       "'e:\\\\lucky\\\\M L\\\\ML kaggle'"
      ]
     },
     "metadata": {},
     "execution_count": 3
    }
   ],
   "source": [
    "pwd"
   ]
  },
  {
   "cell_type": "code",
   "execution_count": 4,
   "metadata": {},
   "outputs": [
    {
     "output_type": "execute_result",
     "data": {
      "text/plain": [
       "True"
      ]
     },
     "metadata": {},
     "execution_count": 4
    }
   ],
   "source": [
    "path= 'E:/lucky/M L/Datasets/Melbourne/MELBOURNE_HOUSE_PRICES_LESS.csv'\n",
    "os.path.exists(path)"
   ]
  },
  {
   "cell_type": "code",
   "execution_count": 5,
   "metadata": {},
   "outputs": [
    {
     "output_type": "execute_result",
     "data": {
      "text/plain": [
       "Index(['Suburb', 'Address', 'Rooms', 'Type', 'Price', 'Method', 'SellerG',\n",
       "       'Date', 'Postcode', 'Regionname', 'Propertycount', 'Distance',\n",
       "       'CouncilArea'],\n",
       "      dtype='object')"
      ]
     },
     "metadata": {},
     "execution_count": 5
    }
   ],
   "source": [
    "melbourne_data = pd.read_csv(path) \n",
    "melbourne_data.columns\n"
   ]
  },
  {
   "cell_type": "code",
   "execution_count": 6,
   "metadata": {},
   "outputs": [
    {
     "output_type": "stream",
     "name": "stdout",
     "text": [
      "         Suburb           Address  Rooms Type      Price Method   SellerG  \\\n0    Abbotsford     49 Lithgow St      3    h  1490000.0      S    Jellis   \n1    Abbotsford     59A Turner St      3    h  1220000.0      S  Marshall   \n2    Abbotsford     119B Yarra St      3    h  1420000.0      S    Nelson   \n3    Aberfeldie        68 Vida St      3    h  1515000.0      S     Barry   \n4  Airport West  92 Clydesdale Rd      2    h   670000.0      S    Nelson   \n\n        Date  Postcode             Regionname  Propertycount  Distance  \\\n0  1/04/2017      3067  Northern Metropolitan           4019       3.0   \n1  1/04/2017      3067  Northern Metropolitan           4019       3.0   \n2  1/04/2017      3067  Northern Metropolitan           4019       3.0   \n3  1/04/2017      3040   Western Metropolitan           1543       7.5   \n4  1/04/2017      3042   Western Metropolitan           3464      10.4   \n\n                  CouncilArea  \n0          Yarra City Council  \n1          Yarra City Council  \n2          Yarra City Council  \n3  Moonee Valley City Council  \n4  Moonee Valley City Council  \n"
     ]
    }
   ],
   "source": [
    "print(melbourne_data.head())"
   ]
  },
  {
   "cell_type": "code",
   "execution_count": 7,
   "metadata": {},
   "outputs": [
    {
     "output_type": "stream",
     "name": "stdout",
     "text": [
      "   Rooms  Postcode  Distance\n0      3      3067       3.0\n1      3      3067       3.0\n2      3      3067       3.0\n3      3      3040       7.5\n4      2      3042      10.4\n0    4019\n1    4019\n2    4019\n3    1543\n4    3464\nName: Propertycount, dtype: int64\n"
     ]
    }
   ],
   "source": [
    "# Selecting the prediction target \n",
    "y = melbourne_data.Propertycount\n",
    "# Selecting the features \n",
    "melbourne_features = ['Rooms','Postcode', 'Distance' ]\n",
    "X = melbourne_data[melbourne_features]\n",
    "print(X.head())\n",
    "print(y.head())\n",
    "\n"
   ]
  },
  {
   "cell_type": "code",
   "execution_count": 8,
   "metadata": {},
   "outputs": [],
   "source": [
    "# BUILDING THE MODEL\n",
    "from sklearn.tree import DecisionTreeRegressor\n",
    "\n",
    "# Define model. Specify a number for random_state to ensure same results each run\n",
    "melbourne_model = DecisionTreeRegressor(random_state=1)\n"
   ]
  },
  {
   "cell_type": "code",
   "execution_count": 9,
   "metadata": {},
   "outputs": [
    {
     "output_type": "execute_result",
     "data": {
      "text/plain": [
       "DecisionTreeRegressor(random_state=1)"
      ]
     },
     "metadata": {},
     "execution_count": 9
    }
   ],
   "source": [
    "# Fit model\n",
    "melbourne_model.fit(X,y)"
   ]
  },
  {
   "cell_type": "code",
   "execution_count": 10,
   "metadata": {},
   "outputs": [
    {
     "output_type": "stream",
     "name": "stdout",
     "text": [
      "The predicted values for :\n         Suburb           Address  Rooms Type      Price Method   SellerG  \\\n0    Abbotsford     49 Lithgow St      3    h  1490000.0      S    Jellis   \n1    Abbotsford     59A Turner St      3    h  1220000.0      S  Marshall   \n2    Abbotsford     119B Yarra St      3    h  1420000.0      S    Nelson   \n3    Aberfeldie        68 Vida St      3    h  1515000.0      S     Barry   \n4  Airport West  92 Clydesdale Rd      2    h   670000.0      S    Nelson   \n\n        Date  Postcode             Regionname  Propertycount  Distance  \\\n0  1/04/2017      3067  Northern Metropolitan           4019       3.0   \n1  1/04/2017      3067  Northern Metropolitan           4019       3.0   \n2  1/04/2017      3067  Northern Metropolitan           4019       3.0   \n3  1/04/2017      3040   Western Metropolitan           1543       7.5   \n4  1/04/2017      3042   Western Metropolitan           3464      10.4   \n\n                  CouncilArea  \n0          Yarra City Council  \n1          Yarra City Council  \n2          Yarra City Council  \n3  Moonee Valley City Council  \n4  Moonee Valley City Council   \n\nare:\nactual values : 0    4019\n1    4019\n2    4019\n3    1543\n4    3464\nName: Propertycount, dtype: int64\n"
     ]
    }
   ],
   "source": [
    "print(\"The predicted values for :\")\n",
    "print(melbourne_data.head(),'\\n\\nare:')\n",
    "\n",
    "melbourne_model.predict(X.head())\n",
    "\n",
    "print('actual values :',y.head())\n"
   ]
  },
  {
   "cell_type": "code",
   "execution_count": 11,
   "metadata": {},
   "outputs": [
    {
     "output_type": "execute_result",
     "data": {
      "text/plain": [
       "\"\\nThere are many metrics for summarizing model quality, but we'll start with one called Mean Absolute Error (also called MAE). Let's break down this metric starting with the last word, error.\\n\""
      ]
     },
     "metadata": {},
     "execution_count": 11
    }
   ],
   "source": [
    "\"\"\"\n",
    "There are many metrics for summarizing model quality, but we'll start with one called Mean Absolute Error (also called MAE). Let's break down this metric starting with the last word, error.\n",
    "\n",
    "The prediction error for each house is:\n",
    "\n",
    "error=actual−predicted\n",
    "\n",
    "\n",
    "\"\"\""
   ]
  },
  {
   "cell_type": "code",
   "execution_count": 12,
   "metadata": {},
   "outputs": [
    {
     "output_type": "execute_result",
     "data": {
      "text/plain": [
       "827.9274474577895"
      ]
     },
     "metadata": {},
     "execution_count": 12
    }
   ],
   "source": [
    "from sklearn.metrics import mean_absolute_error\n",
    "\n",
    "predicted_home_prices = melbourne_model.predict(X)\n",
    "mean_absolute_error(y, predicted_home_prices)"
   ]
  },
  {
   "cell_type": "code",
   "execution_count": 13,
   "metadata": {},
   "outputs": [
    {
     "output_type": "stream",
     "name": "stdout",
     "text": [
      "857.2847348968489\n"
     ]
    }
   ],
   "source": [
    "from sklearn.model_selection import train_test_split\n",
    "\n",
    "# split data into training and validation data, for both features and target\n",
    "# The split is based on a random number generator. Supplying a numeric value to\n",
    "# the random_state argument guarantees we get the same split every time we\n",
    "# run this script.\n",
    "train_X, val_X, train_y, val_y = train_test_split(X, y, random_state = 0)\n",
    "\n",
    "# Define model\n",
    "melbourne_model = DecisionTreeRegressor()\n",
    "\n",
    "# Fit model\n",
    "melbourne_model.fit(train_X, train_y)\n",
    "\n",
    "# get predicted prices on validation data\n",
    "val_predictions = melbourne_model.predict(val_X)\n",
    "print(mean_absolute_error(val_y, val_predictions))"
   ]
  },
  {
   "cell_type": "code",
   "execution_count": null,
   "metadata": {},
   "outputs": [],
   "source": []
  }
 ]
}