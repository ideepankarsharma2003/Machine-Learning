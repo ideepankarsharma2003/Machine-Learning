{
 "metadata": {
  "language_info": {
   "codemirror_mode": {
    "name": "ipython",
    "version": 3
   },
   "file_extension": ".py",
   "mimetype": "text/x-python",
   "name": "python",
   "nbconvert_exporter": "python",
   "pygments_lexer": "ipython3",
   "version": "3.9.6"
  },
  "orig_nbformat": 4,
  "kernelspec": {
   "name": "python3",
   "display_name": "Python 3.9.6 64-bit"
  },
  "interpreter": {
   "hash": "6bea1d8ff66504a0e6b074007282c7755a91039a5750500feedce32a0acf9d3a"
  }
 },
 "nbformat": 4,
 "nbformat_minor": 2,
 "cells": [
  {
   "cell_type": "markdown",
   "source": [
    "# NumPy"
   ],
   "metadata": {}
  },
  {
   "cell_type": "code",
   "execution_count": 1,
   "source": [
    "# importing the numpy module\r\n",
    "import numpy as np \r\n",
    "print(np.__version__)"
   ],
   "outputs": [
    {
     "output_type": "stream",
     "name": "stdout",
     "text": [
      "1.19.5\n"
     ]
    }
   ],
   "metadata": {}
  },
  {
   "cell_type": "code",
   "execution_count": 2,
   "source": [
    "# creating the numpy array\r\n",
    "x = np.array([1, 2, 3, 4]) \r\n",
    "print(x)\r\n",
    "print(type(x))"
   ],
   "outputs": [
    {
     "output_type": "stream",
     "name": "stdout",
     "text": [
      "[1 2 3 4]\n",
      "<class 'numpy.ndarray'>\n"
     ]
    }
   ],
   "metadata": {}
  },
  {
   "cell_type": "code",
   "execution_count": 3,
   "source": [
    "# value at index 0\r\n",
    "print(x[0])"
   ],
   "outputs": [
    {
     "output_type": "stream",
     "name": "stdout",
     "text": [
      "1\n"
     ]
    }
   ],
   "metadata": {}
  },
  {
   "cell_type": "code",
   "execution_count": 4,
   "source": [
    "# create a NumPy array of 3*3\r\n",
    "x = np.array([[1, 2, 3], [4, 5, 6], [7, 8, 9]]) \r\n",
    " \r\n",
    "print(x[1][2]) # print value at row 2 and column 3 ---> 6"
   ],
   "outputs": [
    {
     "output_type": "stream",
     "name": "stdout",
     "text": [
      "6\n"
     ]
    }
   ],
   "metadata": {}
  },
  {
   "cell_type": "code",
   "execution_count": 5,
   "source": [
    "# defining the array\r\n",
    "x = np.array([[1, 2, 3], [4, 5, 6], [7, 8, 9]]) \r\n",
    "\r\n",
    "print(x.ndim) # prints the number of the dimensions in the array ===> 2\r\n",
    "print(x.size) # prints number of elements in the array ===> 9\r\n",
    "print(x.shape) # prints the shape of the array ===> (3, 3)"
   ],
   "outputs": [
    {
     "output_type": "stream",
     "name": "stdout",
     "text": [
      "2\n",
      "9\n",
      "(3, 3)\n"
     ]
    }
   ],
   "metadata": {}
  },
  {
   "cell_type": "code",
   "execution_count": 6,
   "source": [
    "# defining the array\r\n",
    "x = np.array([2, 9, 3])\r\n",
    "\r\n",
    "x = np.append(x, 2) # appends 4 to the array x\r\n",
    "x = np.delete(x, 0) # delete the element at index 0 of the array x ----> 2\r\n",
    "x = np.sort(x) # sorts the array X -----> [2 3 9]\r\n",
    "\r\n",
    "print(x) # prints the array ----> [2 3 9]"
   ],
   "outputs": [
    {
     "output_type": "stream",
     "name": "stdout",
     "text": [
      "[2 3 9]\n"
     ]
    }
   ],
   "metadata": {}
  },
  {
   "cell_type": "code",
   "execution_count": 7,
   "source": [
    "# creates an array that contains elements in range(2, 10, 3)\r\n",
    "x = np.arange(2, 20, 3)\r\n",
    "print(x) # prints the array ---> [ 2  5  8 11 14 17]"
   ],
   "outputs": [
    {
     "output_type": "stream",
     "name": "stdout",
     "text": [
      "[ 2  5  8 11 14 17]\n"
     ]
    }
   ],
   "metadata": {}
  },
  {
   "cell_type": "code",
   "execution_count": 8,
   "source": [
    "# creates an array of 6 elements ----> in range(1, 6)\r\n",
    "x = np.arange(1, 7) # 1-d array ----> [1 2 3 4 5 6]\r\n",
    "\r\n",
    "z = x.reshape(3,2) # change x into a 2-d array -----> [[1 2] [3 4] [5 6]]"
   ],
   "outputs": [],
   "metadata": {}
  },
  {
   "cell_type": "code",
   "execution_count": 9,
   "source": [
    "# Indexing and Slicing\r\n",
    "# creates an array of 9 elements in -----> range(1, 10)\r\n",
    "x = np.arange(1, 10) \r\n",
    "\r\n",
    "print(x[0:2]) # prints ----> [1 2]\r\n",
    "print(x[5:]) # prints ----> [6 7 8 9]\r\n",
    "print(x[:2]) # prints ----> [1 2]\r\n",
    "print(x[-3:]) # prints ----> [7 8 9]"
   ],
   "outputs": [
    {
     "output_type": "stream",
     "name": "stdout",
     "text": [
      "[1 2]\n",
      "[6 7 8 9]\n",
      "[1 2]\n",
      "[7 8 9]\n"
     ]
    }
   ],
   "metadata": {}
  },
  {
   "cell_type": "code",
   "execution_count": 11,
   "source": [
    "x = np.arange(1, 10) # creates an array of elements 1-9\r\n",
    "print(x)\r\n",
    "print(x[x%2==0]) # prints the even elements in the array"
   ],
   "outputs": [
    {
     "output_type": "stream",
     "name": "stdout",
     "text": [
      "[1 2 3 4 5 6 7 8 9]\n",
      "[2 4 6 8]\n"
     ]
    }
   ],
   "metadata": {}
  },
  {
   "cell_type": "code",
   "execution_count": 13,
   "source": [
    "# & ---> and \r\n",
    "# | ---> or \r\n",
    "y = np.arange(31) # creates an array of elements 0-30\r\n",
    "print(y)\r\n",
    "print(y[(y%3==0)&(y%4==0)]) # prints the elements in the array which are multiple of both 4 and 3\r\n",
    "print(y[(y%3==0)|(y%4==0)]) # prints the elements in the array which are multiple of both 4 or 3"
   ],
   "outputs": [
    {
     "output_type": "stream",
     "name": "stdout",
     "text": [
      "[ 0  1  2  3  4  5  6  7  8  9 10 11 12 13 14 15 16 17 18 19 20 21 22 23\n",
      " 24 25 26 27 28 29 30]\n",
      "[ 0 12 24]\n",
      "[ 0  3  4  6  8  9 12 15 16 18 20 21 24 27 28 30]\n"
     ]
    }
   ],
   "metadata": {}
  },
  {
   "cell_type": "markdown",
   "source": [
    "## ARRAY OPERATIONS"
   ],
   "metadata": {}
  },
  {
   "cell_type": "code",
   "execution_count": 14,
   "source": [
    "x = np.arange(1, 10) # creates an array in ----> range(1, 10)\r\n",
    "print(x)\r\n",
    "print(x.sum()) # prints sum of all the elements of the array\r\n",
    "print(x.min()) # prints the minimum element in the array\r\n",
    "print(x.max()) # prints the maximum element in the array\r\n",
    "print(x*2) # prints the 2*value of each element of the array"
   ],
   "outputs": [
    {
     "output_type": "stream",
     "name": "stdout",
     "text": [
      "[1 2 3 4 5 6 7 8 9]\n",
      "45\n",
      "1\n",
      "9\n",
      "[ 2  4  6  8 10 12 14 16 18]\n"
     ]
    }
   ],
   "metadata": {}
  },
  {
   "cell_type": "code",
   "execution_count": 15,
   "source": [
    "print(np.mean(x)) # prints the mean of all the elements in the array\r\n",
    "print(np.median(x)) # prints the median of all the elements in the array\r\n",
    "print(np.var(x)) # prints the variance of all the elements in the array\r\n",
    "print(np.std(x)) # prints the standard deviation of all the elements in the array"
   ],
   "outputs": [
    {
     "output_type": "stream",
     "name": "stdout",
     "text": [
      "5.0\n",
      "5.0\n",
      "6.666666666666667\n",
      "2.581988897471611\n"
     ]
    }
   ],
   "metadata": {}
  },
  {
   "cell_type": "markdown",
   "source": [
    "### FINAL PROJECT "
   ],
   "metadata": {}
  },
  {
   "cell_type": "code",
   "execution_count": 8,
   "source": [
    "import numpy as np\r\n",
    "\r\n",
    "data = np.array([150000, 125000, 320000, 540000, 200000, 120000, 160000,\r\n",
    "                230000, 280000, 290000, 300000, 500000, 420000, 100000, 150000, 280000])\r\n",
    "m = np.mean(data) # mean of the data\r\n",
    "d = np.std(data) # standard deviation of the data\r\n",
    "y1 = m-d # mean - standard deviation\r\n",
    "y2 = m+d # mean + standard deviation\r\n",
    "s = len(data[(data > y1) & (data < y2)]) # within one standard deviation from mean\r\n",
    "r = s/len(data)\r\n",
    "r*=100\r\n",
    "print(r)\r\n"
   ],
   "outputs": [
    {
     "output_type": "stream",
     "name": "stdout",
     "text": [
      "62.5\n"
     ]
    }
   ],
   "metadata": {}
  },
  {
   "cell_type": "code",
   "execution_count": null,
   "source": [],
   "outputs": [],
   "metadata": {}
  }
 ]
}